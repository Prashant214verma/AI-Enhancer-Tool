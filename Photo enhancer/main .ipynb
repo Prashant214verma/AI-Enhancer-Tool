{
 "cells": [
  {
   "cell_type": "code",
   "execution_count": 4,
   "id": "bfc182b8",
   "metadata": {},
   "outputs": [
    {
     "name": "stdout",
     "output_type": "stream",
     "text": [
      "✅ All libraries imported successfully!\n"
     ]
    }
   ],
   "source": [
    "import numpy as np\n",
    "import scipy\n",
    "import torch\n",
    "import streamlit as st\n",
    "from PIL import Image\n",
    "\n",
    "\n",
    "print(\"✅ All libraries imported successfully!\")"
   ]
  },
  {
   "cell_type": "code",
   "execution_count": 6,
   "id": "38566409",
   "metadata": {},
   "outputs": [],
   "source": [
    "from basicsr.archs.rrdbnet_arch import RRDBNet\n",
    "from realesrgan import RealESRGANer"
   ]
  },
  {
   "cell_type": "code",
   "execution_count": 9,
   "id": "376ad081",
   "metadata": {},
   "outputs": [],
   "source": [
    "model = RRDBNet(num_in_ch=3, num_out_ch=3, num_feat=64, num_block=23, num_grow_ch=32, scale=4)\n",
    "sr_model = RealESRGANer(\n",
    "    scale=4,\n",
    "    model_path=\"RealESRGAN_x4plus.pth\",\n",
    "    model=model,\n",
    "    tile=0,\n",
    "    tile_pad=10,\n",
    "    pre_pad=0,\n",
    "    half=False\n",
    ")\n",
    "\n",
    "# Load image\n",
    "img = Image.open(\"test.jpg\").convert(\"RGB\")\n",
    "img_np = np.array(img)  # ✅ Convert PIL to NumPy\n",
    "\n",
    "# Enhance\n",
    "output, _ = sr_model.enhance(img_np, outscale=4)\n",
    "\n",
    "# Save output\n",
    "output_img = Image.fromarray(output)  # Convert NumPy array back to PIL\n",
    "output_img.save(\"enhanced.jpg\")\n"
   ]
  },
  {
   "cell_type": "code",
   "execution_count": null,
   "id": "ab09a9be",
   "metadata": {},
   "outputs": [],
   "source": []
  }
 ],
 "metadata": {
  "kernelspec": {
   "display_name": "enhancer",
   "language": "python",
   "name": "python3"
  },
  "language_info": {
   "codemirror_mode": {
    "name": "ipython",
    "version": 3
   },
   "file_extension": ".py",
   "mimetype": "text/x-python",
   "name": "python",
   "nbconvert_exporter": "python",
   "pygments_lexer": "ipython3",
   "version": "3.10.18"
  }
 },
 "nbformat": 4,
 "nbformat_minor": 5
}
